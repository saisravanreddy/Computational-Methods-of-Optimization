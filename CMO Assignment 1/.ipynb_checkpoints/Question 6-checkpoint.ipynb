{
 "cells": [
  {
   "cell_type": "code",
   "execution_count": 2,
   "metadata": {},
   "outputs": [],
   "source": [
    "import numpy as np"
   ]
  },
  {
   "cell_type": "code",
   "execution_count": 3,
   "metadata": {},
   "outputs": [],
   "source": [
    "def alg_1(k):\n",
    "    return 1+(1/k)\n",
    "\n",
    "def alg_2(k):\n",
    "    return 1+(0.5)**(2**k)\n",
    "\n",
    "def alg_3(k):\n",
    "    return 1+(1/np.math.factorial(k))\n",
    "\n",
    "def alg_4(k):\n",
    "    x=2\n",
    "    i=0\n",
    "    while(i<k):\n",
    "        i = i+1\n",
    "        x = x-(0.5)**(i)\n",
    "    return x\n",
    "        "
   ]
  },
  {
   "cell_type": "code",
   "execution_count": 4,
   "metadata": {},
   "outputs": [
    {
     "name": "stdout",
     "output_type": "stream",
     "text": [
      "1.1\n",
      "1.0\n",
      "1.0000002755731923\n",
      "1.0009765625\n"
     ]
    }
   ],
   "source": [
    "print(alg_1(10))\n",
    "print(alg_2(10))\n",
    "print(alg_3(10))\n",
    "print(alg_4(10))"
   ]
  },
  {
   "cell_type": "markdown",
   "metadata": {},
   "source": [
    "### Answer for a) is 1\n",
    "### Answer for b) is D\n",
    "\n",
    "### Alg 1:\n",
    "\n",
    "$\\lim \\frac{|x_{k+1}-x^*|}{|x_k-x^*|} = \\lim \\frac{k}{k+1} = 1 = \\mu $\n",
    "### Sublinear\n",
    "\n",
    "### Alg 2:\n",
    "##### for p=1:\n",
    "$\\lim \\frac{|x_{k+1}-x^*|}{|x_k-x^*|} = \\lim (0.5)^{2^{k+1}-2^k} = 0 = \\mu $\n",
    "##### for p =2 : \n",
    "$\\lim \\frac{|x_{k+1}-x^*|}{|x_k-x^*|^2} = \\lim (0.5)^{2^{k+1}-2^{k+1}} = 1 = \\mu $\n",
    "### quadratic\n",
    "\n",
    "### Alg 3:\n",
    "##### for p =1 : \n",
    "$\\lim \\frac{|x_{k+1}-x^*|}{|x_k-x^*|} = \\lim 1/k+1 = 0 = \\mu $\n",
    "### Superlinear\n",
    "\n",
    "### Alg 4:\n",
    "### Linear\n"
   ]
  },
  {
   "cell_type": "code",
   "execution_count": 5,
   "metadata": {},
   "outputs": [],
   "source": [
    "def iterative_algorithm(epsilon,func):\n",
    "    k = 0\n",
    "    while(1):\n",
    "        k += 1\n",
    "        x = func(k)\n",
    "        if x<= 1+epsilon:\n",
    "            print (k)\n",
    "            return\n",
    "        #print(x)"
   ]
  },
  {
   "cell_type": "code",
   "execution_count": 6,
   "metadata": {},
   "outputs": [
    {
     "name": "stdout",
     "output_type": "stream",
     "text": [
      "10\n",
      "100\n",
      "1000\n",
      "100000\n",
      "2\n",
      "3\n",
      "4\n",
      "5\n",
      "4\n",
      "5\n",
      "7\n",
      "8\n",
      "4\n",
      "7\n",
      "10\n",
      "17\n"
     ]
    }
   ],
   "source": [
    "iterative_algorithm(0.1,alg_1)\n",
    "iterative_algorithm(0.01,alg_1)\n",
    "iterative_algorithm(0.001,alg_1)\n",
    "iterative_algorithm(0.00001,alg_1)\n",
    "iterative_algorithm(0.1,alg_2)\n",
    "iterative_algorithm(0.01,alg_2)\n",
    "iterative_algorithm(0.001,alg_2)\n",
    "iterative_algorithm(0.00001,alg_2)\n",
    "iterative_algorithm(0.1,alg_3)\n",
    "iterative_algorithm(0.01,alg_3)\n",
    "iterative_algorithm(0.001,alg_3)\n",
    "iterative_algorithm(0.0001,alg_3)\n",
    "iterative_algorithm(0.1,alg_4)\n",
    "iterative_algorithm(0.01,alg_4)\n",
    "iterative_algorithm(0.001,alg_4)\n",
    "iterative_algorithm(0.00001,alg_4)\n"
   ]
  }
 ],
 "metadata": {
  "kernelspec": {
   "display_name": "Python 3",
   "language": "python",
   "name": "python3"
  },
  "language_info": {
   "codemirror_mode": {
    "name": "ipython",
    "version": 3
   },
   "file_extension": ".py",
   "mimetype": "text/x-python",
   "name": "python",
   "nbconvert_exporter": "python",
   "pygments_lexer": "ipython3",
   "version": "3.6.9"
  }
 },
 "nbformat": 4,
 "nbformat_minor": 2
}
