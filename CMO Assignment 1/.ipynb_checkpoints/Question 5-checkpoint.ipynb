{
 "cells": [
  {
   "cell_type": "code",
   "execution_count": 1,
   "metadata": {},
   "outputs": [],
   "source": [
    "import numpy as np\n",
    "\n",
    "def rosen_2d(X):\n",
    "    x = X[0]\n",
    "    y = X[1]\n",
    "    a = 1. - x\n",
    "    b = y - x*x\n",
    "    return a*a + b*b*100.\n",
    "\n",
    "def rosen_2d_grad(X):\n",
    "    x = X[0]\n",
    "    y = X[1]\n",
    "    a = 1. - x\n",
    "    b = y - x*x\n",
    "    return np.array([-2*a - 400*b*x, 200*b])\n",
    "\n",
    "def rosen_2d_Hess(X):\n",
    "    x = X[0]\n",
    "    y = X[1]\n",
    "    h11=2-400*y + 1200*x*x\n",
    "    h12=-400*x\n",
    "    h22=200\n",
    "    return np.array([[h11,h12],[h12,h22]])"
   ]
  },
  {
   "cell_type": "code",
   "execution_count": 2,
   "metadata": {},
   "outputs": [],
   "source": [
    "def gradient_descent(stepsize, epsilon, x):\n",
    "    no_of_iterations = 0\n",
    "    while(no_of_iterations<20000):\n",
    "        delta_x = (-1.)*rosen_2d_grad(x)\n",
    "        if np.linalg.norm(delta_x) <= epsilon:\n",
    "            print (\"no of iterations: \" + str(no_of_iterations))\n",
    "            return\n",
    "        else:\n",
    "            x = x + (stepsize*delta_x)\n",
    "            no_of_iterations += 1\n",
    "            #print (\"X: [\"+ str(x[0])+ \",\" + str(x[1]))\n",
    "    print (\"does not converge with this step size\")"
   ]
  },
  {
   "cell_type": "code",
   "execution_count": 3,
   "metadata": {},
   "outputs": [
    {
     "name": "stdout",
     "output_type": "stream",
     "text": [
      "no of iterations: 5\n",
      "no of iterations: 6146\n",
      "no of iterations: 11972\n",
      "no of iterations: 17742\n",
      "no of iterations: 70\n",
      "no of iterations: 1518\n",
      "no of iterations: 4370\n",
      "no of iterations: 7248\n"
     ]
    },
    {
     "name": "stderr",
     "output_type": "stream",
     "text": [
      "/home/sravan/.local/lib/python3.6/site-packages/ipykernel_launcher.py:14: RuntimeWarning: overflow encountered in double_scalars\n",
      "  \n",
      "/home/sravan/.local/lib/python3.6/site-packages/ipykernel_launcher.py:14: RuntimeWarning: invalid value encountered in double_scalars\n",
      "  \n"
     ]
    },
    {
     "name": "stdout",
     "output_type": "stream",
     "text": [
      "does not converge with this step size\n",
      "does not converge with this step size\n",
      "does not converge with this step size\n",
      "does not converge with this step size\n"
     ]
    }
   ],
   "source": [
    "if __name__ ==\"__main__\":\n",
    "    gradient_descent(0.001, 0.1 , np.array([1.2, 1.2]))\n",
    "    gradient_descent(0.001, 0.01, np.array([1.2, 1.2]))\n",
    "    gradient_descent(0.001, 0.001 , np.array([1.2, 1.2]))\n",
    "    gradient_descent(0.001, 0.0001, np.array([1.2, 1.2]))\n",
    "    gradient_descent(0.002, 0.1 , np.array([1.2, 1.2]))\n",
    "    gradient_descent(0.002, 0.01, np.array([1.2, 1.2]))\n",
    "    gradient_descent(0.002, 0.001 , np.array([1.2, 1.2]))\n",
    "    gradient_descent(0.002, 0.0001, np.array([1.2, 1.2]))\n",
    "    gradient_descent(0.005, 0.1 , np.array([1.2, 1.2]))\n",
    "    gradient_descent(0.005, 0.01, np.array([1.2, 1.2]))\n",
    "    gradient_descent(0.005, 0.001 , np.array([1.2, 1.2]))\n",
    "    gradient_descent(0.005, 0.0001, np.array([1.2, 1.2]))"
   ]
  },
  {
   "cell_type": "code",
   "execution_count": 6,
   "metadata": {},
   "outputs": [],
   "source": [
    "def newton_iteration_method(epsilon, x):\n",
    "    no_of_iterations = 0\n",
    "    while(no_of_iterations<100000):\n",
    "        delta_x = (-1.)*rosen_2d_grad(x)\n",
    "        if np.linalg.norm(delta_x) <= epsilon:\n",
    "            print (\"no of iterations: \" + str(no_of_iterations))\n",
    "            return\n",
    "        else:\n",
    "            x = x + np.matmul(np.linalg.inv(rosen_2d_Hess(x)),delta_x)\n",
    "            no_of_iterations += 1\n",
    "            #print (\"X: [\"+ str(x[0])+ \",\" + str(x[1]))\n",
    "    print (\"does not converge with this step size\")"
   ]
  },
  {
   "cell_type": "code",
   "execution_count": 7,
   "metadata": {},
   "outputs": [
    {
     "name": "stdout",
     "output_type": "stream",
     "text": [
      "no of iterations: 3\n",
      "no of iterations: 3\n",
      "no of iterations: 4\n",
      "no of iterations: 5\n"
     ]
    }
   ],
   "source": [
    "newton_iteration_method(0.1, np.array([1.2, 1.2]))\n",
    "newton_iteration_method(0.01, np.array([1.2, 1.2]))\n",
    "newton_iteration_method(0.001, np.array([1.2, 1.2]))\n",
    "newton_iteration_method(0.0001, np.array([1.2, 1.2]))\n"
   ]
  }
 ],
 "metadata": {
  "kernelspec": {
   "display_name": "Python 3",
   "language": "python",
   "name": "python3"
  },
  "language_info": {
   "codemirror_mode": {
    "name": "ipython",
    "version": 3
   },
   "file_extension": ".py",
   "mimetype": "text/x-python",
   "name": "python",
   "nbconvert_exporter": "python",
   "pygments_lexer": "ipython3",
   "version": "3.6.9"
  }
 },
 "nbformat": 4,
 "nbformat_minor": 2
}
