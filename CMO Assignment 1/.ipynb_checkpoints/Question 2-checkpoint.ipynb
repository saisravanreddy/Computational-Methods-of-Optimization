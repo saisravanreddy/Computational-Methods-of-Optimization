{
 "cells": [
  {
   "cell_type": "code",
   "execution_count": 9,
   "metadata": {},
   "outputs": [
    {
     "data": {
      "text/plain": [
       "(array([-0.37994158,  1.44009573,  5.93984585]),\n",
       " array([[-0.54560183,  0.82445036, -0.15033377],\n",
       "        [ 0.74732852,  0.55982604,  0.35790345],\n",
       "        [-0.37923439, -0.08292406,  0.92157738]]))"
      ]
     },
     "execution_count": 9,
     "metadata": {},
     "output_type": "execute_result"
    }
   ],
   "source": [
    "import numpy as np\n",
    "epsilon = 0.5\n",
    "Q = np.array([[1, epsilon , -1],\n",
    "             [epsilon, 1 ,2],\n",
    "             [-1, 2, 5]])\n",
    "np.linalg.eig(Q)"
   ]
  }
 ],
 "metadata": {
  "kernelspec": {
   "display_name": "Python 3",
   "language": "python",
   "name": "python3"
  },
  "language_info": {
   "codemirror_mode": {
    "name": "ipython",
    "version": 3
   },
   "file_extension": ".py",
   "mimetype": "text/x-python",
   "name": "python",
   "nbconvert_exporter": "python",
   "pygments_lexer": "ipython3",
   "version": "3.6.9"
  }
 },
 "nbformat": 4,
 "nbformat_minor": 2
}
