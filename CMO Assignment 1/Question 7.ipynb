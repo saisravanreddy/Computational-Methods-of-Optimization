{
 "cells": [
  {
   "cell_type": "code",
   "execution_count": 2,
   "metadata": {},
   "outputs": [],
   "source": [
    "import matplotlib.pyplot as plt\n",
    "import numpy as np"
   ]
  },
  {
   "cell_type": "code",
   "execution_count": 3,
   "metadata": {},
   "outputs": [
    {
     "data": {
      "image/png": "[encoded data removed]",
      "text/plain": [
       "<Figure size 432x288 with 1 Axes>"
      ]
     },
     "metadata": {
      "needs_background": "light"
     },
     "output_type": "display_data"
    }
   ],
   "source": [
    "x = np.linspace(0,7,7000)\n",
    "y = x**4-14*x**3+60*x**2-70*x\n",
    "# setting the axes at the centre\n",
    "fig = plt.figure()\n",
    "ax = fig.add_subplot(1, 1, 1)\n",
    "ax.spines['left'].set_position('center')\n",
    "ax.spines['bottom'].set_position('center')\n",
    "ax.spines['right'].set_color('none')\n",
    "ax.spines['top'].set_color('none')\n",
    "ax.xaxis.set_ticks_position('bottom')\n",
    "ax.yaxis.set_ticks_position('left')\n",
    "\n",
    "# plot the function\n",
    "plt.plot(x,y, 'g')\n",
    "\n",
    "# show the plot\n",
    "plt.show()"
   ]
  },
  {
   "cell_type": "code",
   "execution_count": 5,
   "metadata": {},
   "outputs": [
    {
     "data": {
      "image/png": "[encoded data removed]",
      "text/plain": [
       "<Figure size 432x288 with 1 Axes>"
      ]
     },
     "metadata": {
      "needs_background": "light"
     },
     "output_type": "display_data"
    }
   ],
   "source": [
    "dy = 4*x**3-42*x**2+120*x-70\n",
    "# setting the axes at the centre\n",
    "fig = plt.figure()\n",
    "ax = fig.add_subplot(1, 1, 1)\n",
    "ax.spines['left'].set_position('center')\n",
    "ax.spines['bottom'].set_position('center')\n",
    "ax.spines['right'].set_color('none')\n",
    "ax.spines['top'].set_color('none')\n",
    "ax.xaxis.set_ticks_position('bottom')\n",
    "ax.yaxis.set_ticks_position('left')\n",
    "\n",
    "# plot the function\n",
    "plt.plot(x,dy, 'g')\n",
    "\n",
    "# show the plot\n",
    "plt.show()"
   ]
  },
  {
   "cell_type": "markdown",
   "metadata": {},
   "source": [
    "Bisection Method\n",
    "b)"
   ]
  },
  {
   "cell_type": "code",
   "execution_count": 21,
   "metadata": {},
   "outputs": [],
   "source": [
    "def func(x):\n",
    "    return 4*x**3-42*x**2+120*x-70\n",
    "\n",
    "def bisection_method(a, b, tol, N_max):\n",
    "    x_left = a\n",
    "    x_right = b\n",
    "    no_of_iterations = 0\n",
    "    while(no_of_iterations<N_max):\n",
    "        no_of_iterations+=1\n",
    "        x_mid = (x_left+x_right)/2\n",
    "        print(\"x_mid:\"+str(x_mid))\n",
    "        if func(x_mid)==0 or ((x_right-x_left)/2)<=tol :\n",
    "            print(\"no of iterations:\"+ str(no_of_iterations))\n",
    "            return\n",
    "        if np.sign(func(x_mid))*np.sign(func(x_left)) < 0:\n",
    "            x_right = x_mid\n",
    "        else:\n",
    "            x_left = x_mid\n",
    "    \n",
    "    print(\"Max iterations reached and x_mid:\" + str(x_mid))\n"
   ]
  },
  {
   "cell_type": "code",
   "execution_count": 22,
   "metadata": {},
   "outputs": [
    {
     "name": "stdout",
     "output_type": "stream",
     "text": [
      "b): \n",
      "x_mid:1.0\n",
      "x_mid:0.5\n",
      "x_mid:0.75\n",
      "x_mid:0.875\n",
      "x_mid:0.8125\n",
      "x_mid:0.78125\n",
      "x_mid:0.765625\n",
      "x_mid:0.7734375\n",
      "no of iterations:8\n",
      "c):\n",
      "x_mid:1.0\n",
      "x_mid:0.5\n",
      "x_mid:0.75\n",
      "x_mid:0.875\n",
      "x_mid:0.8125\n",
      "x_mid:0.78125\n",
      "x_mid:0.765625\n",
      "x_mid:0.7734375\n",
      "x_mid:0.77734375\n",
      "x_mid:0.779296875\n",
      "x_mid:0.7802734375\n",
      "x_mid:0.78076171875\n",
      "x_mid:0.781005859375\n",
      "x_mid:0.7808837890625\n",
      "x_mid:0.78094482421875\n",
      "no of iterations:15\n",
      "d):\n",
      "x_mid:1.5\n",
      "x_mid:0.75\n",
      "x_mid:1.125\n",
      "x_mid:0.9375\n",
      "x_mid:0.84375\n",
      "x_mid:0.796875\n",
      "x_mid:0.7734375\n",
      "x_mid:0.78515625\n",
      "x_mid:0.779296875\n",
      "x_mid:0.7822265625\n",
      "x_mid:0.78076171875\n",
      "x_mid:0.781494140625\n",
      "no of iterations:12\n",
      "e):\n",
      "x_mid:1.0\n",
      "x_mid:0.5\n",
      "x_mid:0.75\n",
      "x_mid:0.875\n",
      "x_mid:0.8125\n",
      "x_mid:0.78125\n",
      "x_mid:0.765625\n",
      "x_mid:0.7734375\n",
      "x_mid:0.77734375\n",
      "x_mid:0.779296875\n",
      "Max iterations reached and x_mid:0.779296875\n",
      "f):\n",
      "x_mid:1.0\n",
      "x_mid:0.5\n",
      "x_mid:0.75\n",
      "x_mid:0.875\n",
      "x_mid:0.8125\n",
      "x_mid:0.78125\n",
      "x_mid:0.765625\n",
      "x_mid:0.7734375\n",
      "x_mid:0.77734375\n",
      "x_mid:0.779296875\n",
      "x_mid:0.7802734375\n",
      "x_mid:0.78076171875\n",
      "x_mid:0.781005859375\n",
      "x_mid:0.7808837890625\n",
      "x_mid:0.78094482421875\n",
      "x_mid:0.780914306640625\n",
      "x_mid:0.7808990478515625\n",
      "x_mid:0.7808914184570312\n",
      "x_mid:0.7808876037597656\n",
      "x_mid:0.7808856964111328\n",
      "Max iterations reached and x_mid:0.7808856964111328\n"
     ]
    }
   ],
   "source": [
    "print(\"b): \")\n",
    "bisection_method(0,2,0.01,1000)\n",
    "print(\"c):\")\n",
    "bisection_method(0,2,0.0001,1000)\n",
    "print(\"d):\")\n",
    "bisection_method(0,3,0.001,1000)\n",
    "print(\"e):\")\n",
    "bisection_method(0,2,0.00000001,10)\n",
    "print(\"f):\")\n",
    "bisection_method(0,2,0.00000001,20)\n"
   ]
  }
 ],
 "metadata": {
  "kernelspec": {
   "display_name": "Python 3",
   "language": "python",
   "name": "python3"
  },
  "language_info": {
   "codemirror_mode": {
    "name": "ipython",
    "version": 3
   },
   "file_extension": ".py",
   "mimetype": "text/x-python",
   "name": "python",
   "nbconvert_exporter": "python",
   "pygments_lexer": "ipython3",
   "version": "3.6.9"
  }
 },
 "nbformat": 4,
 "nbformat_minor": 2
}
