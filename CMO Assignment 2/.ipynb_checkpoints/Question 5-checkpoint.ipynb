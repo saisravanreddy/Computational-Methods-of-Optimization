{
 "cells": [
  {
   "cell_type": "code",
   "execution_count": 62,
   "metadata": {},
   "outputs": [
    {
     "data": {
      "text/plain": [
       "'\\ndef function_3d(X):\\n    x = X[0]\\n    y = X[1]\\n    z = X[2]\\n    return (x-4.)**4 + (y-3.)**2 + 4.*(z+5.)**4\\n\\ndef function_3d_grad(X):\\n    x = X[0]\\n    y = X[1]\\n    z = X[2]\\n    return np.array([4*(x-4)**3, 2*(y-3), 4*(z+5)**3])\\n\\ndef function_3d_Hess(X):\\n    x = X[0]\\n    y = X[1]\\n    z = X[2]\\n    return np.array([[12*(x-4)**2 , 0 , 0 ],\\n                     [0 , 2 , 0],\\n                     [0 , 0 , 48*(z+5)**2]])\\n'"
      ]
     },
     "execution_count": 62,
     "metadata": {},
     "output_type": "execute_result"
    }
   ],
   "source": [
    "import numpy as np\n",
    "\n",
    "\"\"\"\n",
    "def function_3d(X):\n",
    "    x = X[0]\n",
    "    y = X[1]\n",
    "    z = X[2]\n",
    "    return (x-4.)**4 + (y-3.)**2 + 4.*(z+5.)**4\n",
    "\n",
    "def function_3d_grad(X):\n",
    "    x = X[0]\n",
    "    y = X[1]\n",
    "    z = X[2]\n",
    "    return np.array([4*(x-4)**3, 2*(y-3), 4*(z+5)**3])\n",
    "\n",
    "def function_3d_Hess(X):\n",
    "    x = X[0]\n",
    "    y = X[1]\n",
    "    z = X[2]\n",
    "    return np.array([[12*(x-4)**2 , 0 , 0 ],\n",
    "                     [0 , 2 , 0],\n",
    "                     [0 , 0 , 48*(z+5)**2]])\n",
    "\"\"\""
   ]
  },
  {
   "cell_type": "code",
   "execution_count": 30,
   "metadata": {},
   "outputs": [],
   "source": [
    "import dill\n",
    "import pickle\n",
    "\n",
    "func = dill.loads(pickle.load(open(\"f5.pkl\",\"rb\")))\n",
    "func_grad = dill.loads(pickle.load(open(\"grad_f5.pkl\",\"rb\")))\n",
    "func_hess = dill.loads(pickle.load(open(\"hess_f5.pkl\",\"rb\")))"
   ]
  },
  {
   "cell_type": "code",
   "execution_count": 75,
   "metadata": {},
   "outputs": [],
   "source": [
    "def steepest_descent_with_exact_line_search(func_grad,func_hess,X,epsilon):\n",
    "    iterations = 0\n",
    "    while np.linalg.norm(func_grad(X)) > epsilon:\n",
    "        print(X)\n",
    "        iterations += 1\n",
    "        stepsize =  (np.linalg.norm(func_grad(X))**2)/(np.matmul(func_grad(X),np.matmul(func_hess(),func_grad(X))))\n",
    "        print(stepsize)\n",
    "        X = X - stepsize * np.array(func_grad(X))\n",
    "    return iterations,X\n"
   ]
  },
  {
   "cell_type": "code",
   "execution_count": 76,
   "metadata": {},
   "outputs": [
    {
     "name": "stdout",
     "output_type": "stream",
     "text": [
      "[ 0 10]\n",
      "0.08664546899841018\n",
      "[-2.25278219  8.78696343]\n",
      "2.1800000000000153\n",
      "[0.75554849 3.20006359]\n",
      "0.08664546899841014\n",
      "[0.20485248 2.90353497]\n",
      "2.180000000000027\n",
      "[0.94024346 1.53780887]\n",
      "0.08664546899841015\n",
      "[0.80562499 1.465322  ]\n",
      "2.180000000000019\n",
      "[0.98539242 1.13146819]\n",
      "0.08664546899841011\n",
      "[0.95248473 1.11374867]\n",
      "2.1799999999999997\n",
      "[0.99642916 1.0321376 ]\n",
      "0.08664546899841032\n",
      "[0.98838482 1.02780603]\n",
      "2.180000000002503\n",
      "[0.9991271  1.00785608]\n",
      "0.08664546899840683\n",
      "[0.99716065 1.00679723]\n",
      "2.1800000000030724\n",
      "[0.99978662 1.00192043]\n",
      "0.08664546899840334\n",
      "[0.99930592 1.00166159]\n",
      "2.1799999999602044\n",
      "[0.99994784 1.00046945]\n",
      "0.08664546899847424\n",
      "[0.99983033 1.00040618]\n",
      "2.1799999999828636\n",
      "[0.99998725 1.00011476]\n",
      "0.08664546899845385\n",
      "[0.99995852 1.00009929]\n",
      "2.1800000002804065\n",
      "[0.99999688 1.00002805]\n",
      "0.08664546899771805\n",
      "[0.99998986 1.00002427]\n",
      "2.1800000015055514\n",
      "[0.99999924 1.00000686]\n",
      "0.08664546899676616\n",
      "[0.99999752 1.00000593]\n",
      "2.180000002932808\n",
      "[0.99999981 1.00000168]\n",
      "0.0866454689933662\n",
      "Iterations: 23 Final X: [0.99999939 1.00000145] Final function value:10.000000000000423 \n"
     ]
    }
   ],
   "source": [
    "import matplotlib.pyplot as plt\n",
    "import numpy as np\n",
    "\n",
    "iterations,x_opt = steepest_descent_with_exact_line_search(func_grad,func_hess,np.array([0,10]),10**(-6))\n",
    "print(\"Iterations: {} Final X: {} Final function value:{} \".format(iterations,x_opt,func(x_opt)))\n",
    "\n",
    "\n",
    "#Given hessian is independent of x , implies it is a quadratic function\n",
    "#[[10, 4], [4, 2]]\n",
    "\n"
   ]
  },
  {
   "cell_type": "markdown",
   "metadata": {},
   "source": [
    "### Question b)"
   ]
  },
  {
   "cell_type": "code",
   "execution_count": 68,
   "metadata": {},
   "outputs": [
    {
     "name": "stdout",
     "output_type": "stream",
     "text": [
      "[0 0 0 0]\n",
      "1.8744460086553\n",
      "[1.42457897 0.14995568 2.09937953 1.27462329]\n",
      "1.25873125756794\n",
      "[1.52804708 0.13362676 1.95760146 1.39442032]\n",
      "1.4617457694348819\n",
      "[1.52940187 0.11941971 1.97337559 1.40998216]\n",
      "1.4106162092143857\n",
      "[1.53456121 0.12255576 1.97376092 1.41200545]\n",
      "1.4487732200098258\n",
      "[1.53459807 0.12186525 1.97506793 1.41273283]\n",
      "1.4091118865868928\n",
      "[1.53493845 0.12204364 1.97506243 1.41289482]\n",
      "1.4485974023144244\n",
      "[1.53494084 0.12200025 1.97515079 1.41294059]\n",
      "1.4090938008393759\n",
      "[1.53496328 0.1220118  1.97515021 1.41295148]\n",
      "1.4485953273041006\n",
      "[1.53496344 0.12200896 1.97515605 1.41295448]\n",
      "1.409093587895463\n",
      "Iterations: 10 Final X: [1.53496492 0.12200972 1.97515601 1.4129552 ] Final function value:-2.174659550975259 \n"
     ]
    }
   ],
   "source": [
    "A = np.array([\n",
    "    [0.78 , -0.02 , -0.12 , -0.14],\n",
    "    [-0.02 , 0.86 , -0.04 , 0.06 ],\n",
    "    [-0.12 ,-0.04 , 0.72 , -0.08],\n",
    "    [-0.14 , 0.06 , -0.08, 0.74]\n",
    "])\n",
    "b = np.array([0.76 , 0.08 , 1.12 , 0.68])\n",
    "\n",
    "def function_4d(X):\n",
    "    return (1/2)*np.matmul(np.matrix.transpose(X),np.matmul(function_4d_hess(),X)) - np.matmul(np.matrix.transpose(b),X)\n",
    "\n",
    "def function_4d_grad(X):\n",
    "    return np.matmul(A,X)-b\n",
    "\n",
    "def function_4d_hess():\n",
    "    return A\n",
    "\n",
    "X_initial = np.array([0 , 0 , 0 , 0])\n",
    "epsilon = 10**(-6)\n",
    "iterations, x_opt = steepest_descent_with_exact_line_search(function_4d_grad, function_4d_hess, X_initial , epsilon)\n",
    "print(\"Iterations: {} Final X: {} Final function value:{} \".format(iterations,x_opt,function_4d(x_opt)))\n",
    "\n"
   ]
  }
 ],
 "metadata": {
  "kernelspec": {
   "display_name": "Python 3",
   "language": "python",
   "name": "python3"
  },
  "language_info": {
   "codemirror_mode": {
    "name": "ipython",
    "version": 3
   },
   "file_extension": ".py",
   "mimetype": "text/x-python",
   "name": "python",
   "nbconvert_exporter": "python",
   "pygments_lexer": "ipython3",
   "version": "3.6.9"
  }
 },
 "nbformat": 4,
 "nbformat_minor": 2
}
