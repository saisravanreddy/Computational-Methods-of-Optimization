{
 "cells": [
  {
   "cell_type": "code",
   "execution_count": null,
   "metadata": {},
   "outputs": [],
   "source": [
    "import math\n",
    "f = lambda x: pow(math.e,-x)-math.cos(x)\n",
    "fib = [1,1,2,3,5,8,13,21,34,55,89,144,233,377,610,987,1597,2584,4181,6765,10946]\n",
    "xl = 0\n",
    "xu = 1\n",
    "k = 0\n",
    "fcount = 0\n",
    "while(k<20):\n",
    "  k += 1\n",
    "  r = fib[20-k]/fib[20-k+1]\n",
    "  d = (xu-xl)*r\n",
    "  xn = xu - d\n",
    "  xp = xl + d\n",
    "  flag = 0\n",
    "  fcount += 2\n",
    "  if(f(xn) < f(xp)):\n",
    "    xu = xp\n",
    "  else:\n",
    "    xl = xn\n",
    "print(0.5*(xl+xu),0.5*(xu-xl),fcount)"
   ]
  },
  {
   "cell_type": "code",
   "execution_count": null,
   "metadata": {},
   "outputs": [],
   "source": [
    "import math\n",
    "f = lambda x: pow(math.e,-x)-math.cos(x)\n",
    "xl = 0 \n",
    "xu = 1\n",
    "k = 0\n",
    "tol = 0.5*(xu-xl)\n",
    "prec = 4.567878677141923e-05\n",
    "fcount = 0\n",
    "while(tol>prec):\n",
    "  k += 1\n",
    "  l = 0.5*(1+math.pow(5,0.5))\n",
    "  r = l/(1+l)\n",
    "  d = (xu-xl)*r\n",
    "  xn = xu-d\n",
    "  xp = xl+d\n",
    "  if(f(xn)<f(xp)):\n",
    "    xu = xp\n",
    "  else:\n",
    "    xl = xn\n",
    "  tol = 0.5*(xu-xl)\n",
    "  print(tol)\n",
    "  fcount += 2\n",
    "print(0.5*(xl+xu),0.5*(xu-xl),fcount,k)"
   ]
  }
 ],
 "metadata": {
  "kernelspec": {
   "display_name": "py_37_env",
   "language": "python",
   "name": "py_37_env"
  },
  "language_info": {
   "codemirror_mode": {
    "name": "ipython",
    "version": 3
   },
   "file_extension": ".py",
   "mimetype": "text/x-python",
   "name": "python",
   "nbconvert_exporter": "python",
   "pygments_lexer": "ipython3",
   "version": "3.7.5"
  }
 },
 "nbformat": 4,
 "nbformat_minor": 2
}
