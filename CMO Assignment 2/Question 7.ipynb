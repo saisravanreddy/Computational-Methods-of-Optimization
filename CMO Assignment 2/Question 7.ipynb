{
 "cells": [
  {
   "cell_type": "code",
   "execution_count": 4,
   "metadata": {},
   "outputs": [
    {
     "name": "stdout",
     "output_type": "stream",
     "text": [
      "Iteration number:1 x_l:0 x_u:1\n",
      "Iteration number:2 x_l:0.38196601498264204 x_u:1\n",
      "Iteration number:3 x_l:0.38196601498264204 x_u:0.7639320299652841\n",
      "Iteration number:4 x_l:0.5278640599305682 x_u:0.7639320299652841\n",
      "Iteration number:5 x_l:0.5278640599305682 x_u:0.6737621048784944\n",
      "Iteration number:6 x_l:0.5278640599305682 x_u:0.618033985017358\n",
      "Iteration number:7 x_l:0.5623058651562214 x_u:0.618033985017358\n",
      "Iteration number:8 x_l:0.5623058651562214 x_u:0.5967476703818746\n",
      "Iteration number:9 x_l:0.5754613557463913 x_u:0.5967476703818746\n",
      "Iteration number:10 x_l:0.5835921797917046 x_u:0.5967476703818746\n",
      "Iteration number:11 x_l:0.5835921797917046 x_u:0.591723003837018\n",
      "Iteration number:12 x_l:0.5866983372921615 x_u:0.591723003837018\n",
      "Iteration number:13 x_l:0.5866983372921615 x_u:0.5898044947926182\n",
      "Iteration number:14 x_l:0.5878859857482185 x_u:0.5898044947926182\n",
      "Iteration number:15 x_l:0.5878859857482185 x_u:0.5890736342042755\n",
      "Iteration number:16 x_l:0.5883427736159327 x_u:0.5890736342042755\n",
      "Iteration number:17 x_l:0.5883427736159327 x_u:0.588799561483647\n",
      "Iteration number:18 x_l:0.5883427736159327 x_u:0.5886168463365613\n",
      "Iteration number:19 x_l:0.5884341311894755 x_u:0.5886168463365613\n",
      "Iteration number:20 x_l:0.5885254887630185 x_u:0.5886168463365613\n",
      "N = 20 , x_hat: 0.5885711675497899 tolerance: 4.567878677141923e-05 NSC: 40 \n",
      "Iteration number:1 x_l:0 x_u:1\n",
      "Iteration number:2 x_l:0.3820224719101124 x_u:1\n",
      "Iteration number:3 x_l:0.3820224719101124 x_u:0.7640449438202248\n",
      "Iteration number:4 x_l:0.5280898876404495 x_u:0.7640449438202248\n",
      "Iteration number:5 x_l:0.5280898876404495 x_u:0.6741573033707866\n",
      "Iteration number:6 x_l:0.5280898876404495 x_u:0.6179775280898877\n",
      "Iteration number:7 x_l:0.5617977528089888 x_u:0.6179775280898877\n",
      "Iteration number:8 x_l:0.5617977528089888 x_u:0.5955056179775281\n",
      "Iteration number:9 x_l:0.5730337078651686 x_u:0.5955056179775281\n",
      "Iteration number:10 x_l:0.5842696629213484 x_u:0.5955056179775281\n",
      "N = 10 , x_hat: 0.5898876404494382 tolerance: 0.005617977528089846 NSC: 20 \n"
     ]
    }
   ],
   "source": [
    "import math\n",
    "\n",
    "\n",
    "def foo(x):\n",
    "    return math.exp(-1.*x) - math.cos(x) \n",
    "\n",
    "def fibonacci_sequence(n):\n",
    "    if n==0:\n",
    "        return 1\n",
    "    if n==1:\n",
    "        return 1\n",
    "    return fibonacci_sequence(n-1) + fibonacci_sequence(n-2)\n",
    "\n",
    "def rho(N,k):\n",
    "    return fibonacci_sequence(N-k)/fibonacci_sequence((N-k)+1)\n",
    "\n",
    "def fibonacci_search(x_l, x_u, N):\n",
    "    for k in range(1,N+1,1):\n",
    "        print (\"Iteration number:{} x_l:{} x_u:{}\".format(k,x_l,x_u))\n",
    "        d = (x_u - x_l)*(rho(N,k))\n",
    "        x_minus = x_u - d\n",
    "        x_plus = x_l + d\n",
    "        if foo(x_minus) < foo(x_plus):\n",
    "            x_u = x_plus\n",
    "        else:\n",
    "            x_l = x_minus\n",
    "      \n",
    "    x_hat = 0.5*(x_l + x_u)\n",
    "    tolerance = 0.5*(x_u - x_l)\n",
    "    NSC = 2*(k)\n",
    "    return x_hat, tolerance, NSC\n",
    "\n",
    "x_hat, tolerance, NSC = fibonacci_search(0, 1, 20)\n",
    "print(\"N = 20 , x_hat: {} tolerance: {} NSC: {} \".format(x_hat, tolerance, NSC))\n",
    "\n",
    "x_hat, tolerance, NSC = fibonacci_search(0, 1, 10)\n",
    "print(\"N = 10 , x_hat: {} tolerance: {} NSC: {} \".format(x_hat, tolerance, NSC))\n"
   ]
  },
  {
   "cell_type": "code",
   "execution_count": 12,
   "metadata": {},
   "outputs": [
    {
     "name": "stdout",
     "output_type": "stream",
     "text": [
      "GS using epsilon returned from N = 20 , x_hat: 0.5901699437494743 tolerance: 0.027864045000420612 NSC: 12 \n",
      "GS using epislon returned from N = 10 , x_hat: 0.5876574443791536 tolerance: 0.004065309377891679 NSC: 20 \n"
     ]
    }
   ],
   "source": [
    "def golden_section_search(x_l, x_u ,epsilon):\n",
    "    l = 0.5*(1+math.sqrt(5))\n",
    "    rho = l / (1+l)\n",
    "    iteration = 0\n",
    "    while(0.5*(x_u-x_l) > epsilon):\n",
    "        d = (x_u - x_l)*rho\n",
    "        x_minus = x_u - d\n",
    "        x_plus = x_l + d\n",
    "        if foo(x_minus)<foo(x_plus):\n",
    "            x_u = x_plus\n",
    "        else:\n",
    "            x_l = x_minus\n",
    "        \n",
    "        iteration = iteration + 1\n",
    "            \n",
    "    x_hat = 0.5*(x_l + x_u)\n",
    "    tolerance = 0.5*(x_u - x_l)\n",
    "    NSC = 2*(iteration)\n",
    "    return x_hat, tolerance, NSC\n",
    "\n",
    "x_hat, tolerance, NSC = golden_section_search(0, 1, 4.567878677141923*math.exp(-5.) )\n",
    "print(\"GS using epsilon returned from N = 20 , x_hat: {} tolerance: {} NSC: {} \".format(x_hat, tolerance, NSC))\n",
    "\n",
    "x_hat, tolerance, NSC = golden_section_search(0, 1, 0.005617977528089846)\n",
    "print(\"GS using epislon returned from N = 10 , x_hat: {} tolerance: {} NSC: {} \".format(x_hat, tolerance, NSC))\n",
    "\n",
    "\n",
    "    \n",
    "    "
   ]
  },
  {
   "cell_type": "code",
   "execution_count": 3,
   "metadata": {},
   "outputs": [
    {
     "name": "stdout",
     "output_type": "stream",
     "text": [
      "1\n",
      "2\n",
      "3\n",
      "5\n",
      "8\n",
      "13\n",
      "21\n",
      "34\n",
      "55\n",
      "89\n",
      "144\n",
      "233\n",
      "377\n",
      "610\n",
      "987\n",
      "1597\n",
      "2584\n",
      "4181\n",
      "6765\n"
     ]
    }
   ],
   "source": [
    "for i in range(1,20,1):\n",
    "    print(fibonacci_sequence(i))"
   ]
  }
 ],
 "metadata": {
  "kernelspec": {
   "display_name": "Python 3",
   "language": "python",
   "name": "python3"
  },
  "language_info": {
   "codemirror_mode": {
    "name": "ipython",
    "version": 3
   },
   "file_extension": ".py",
   "mimetype": "text/x-python",
   "name": "python",
   "nbconvert_exporter": "python",
   "pygments_lexer": "ipython3",
   "version": "3.6.9"
  }
 },
 "nbformat": 4,
 "nbformat_minor": 2
}
