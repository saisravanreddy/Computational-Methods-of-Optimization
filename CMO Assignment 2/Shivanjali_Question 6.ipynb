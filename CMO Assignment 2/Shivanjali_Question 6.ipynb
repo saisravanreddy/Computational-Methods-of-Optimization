{
 "cells": [
  {
   "cell_type": "code",
   "execution_count": 5,
   "metadata": {},
   "outputs": [],
   "source": [
    "import dill\n",
    "import pickle\n",
    "import numpy as np\n",
    "from numpy import linalg as LA"
   ]
  },
  {
   "cell_type": "code",
   "execution_count": 6,
   "metadata": {},
   "outputs": [],
   "source": [
    "file1 = open('f6.pkl','rb')\n",
    "f = dill.loads(pickle.load(file1))\n",
    "file2 = open('grad_f6.pkl','rb')\n",
    "g = dill.loads(pickle.load(file2))\n",
    "cur_x = [10,100,100,10]\n",
    "a = 0.5\n",
    "b = 0.5\n",
    "prec = 0.0000001"
   ]
  },
  {
   "cell_type": "code",
   "execution_count": 7,
   "metadata": {},
   "outputs": [
    {
     "name": "stdout",
     "output_type": "stream",
     "text": [
      "[ -18 -392 -582  -48]\n",
      "703.5737345865037\n",
      "6611.75\n",
      "1336.390625\n",
      "321.4326171875\n",
      "83.57110595703125\n",
      "2.1349639892578125\n",
      "0.5337409973144531\n",
      "0.13343524932861328\n",
      "0.03335881233215332\n",
      "0.00833970308303833\n",
      "0.0020849257707595825\n",
      "0.0005212314426898956\n",
      "0.0001303078606724739\n",
      "3.257696516811848e-05\n",
      "8.14424129202962e-06\n",
      "2.036060323007405e-06\n",
      "5.090150807518512e-07\n",
      "1.272537701879628e-07\n",
      "3.18134425469907e-08\n",
      "7.953360636747675e-09\n",
      "1.9883401591869188e-09\n",
      "4.970850397967297e-10\n",
      "1.2427125994918242e-10\n",
      "3.1067814987295606e-11\n",
      "7.766953746823901e-12\n",
      "1.9417384367059753e-12\n",
      "4.854346091764938e-13\n",
      "1.2135865229412346e-13\n",
      "3.0339663073530865e-14\n",
      "7.584915768382716e-15\n",
      "29\n",
      "[1.00000008 2.         2.99999999 4.        ]\n",
      "91 29\n"
     ]
    }
   ],
   "source": [
    "t = 1\n",
    "u = -1*np.array(g(cur_x))\n",
    "print(u*t)\n",
    "k = u*t\n",
    "print(LA.norm(k,2))\n",
    "iters = 0\n",
    "fc = 0\n",
    "gfc = 0\n",
    "while LA.norm((t*u),2) >= prec:\n",
    "    iters = iters + 1\n",
    "    prev_x = cur_x\n",
    "    t = 1\n",
    "    u = -1*np.array(g(prev_x))\n",
    "    fc += 1\n",
    "    gfc += 1\n",
    "    while f(prev_x+t*u) > f(prev_x) + a*t*np.array(g(prev_x)).dot(u):\n",
    "        t = b*t\n",
    "        fc += 1\n",
    "    cur_x = prev_x + t*u\n",
    "    print(f(cur_x))\n",
    "\n",
    "print(iters)\n",
    "print(cur_x)\n",
    "print(fc,gfc)"
   ]
  }
 ],
 "metadata": {
  "kernelspec": {
   "display_name": "py_37_env",
   "language": "python",
   "name": "py_37_env"
  },
  "language_info": {
   "codemirror_mode": {
    "name": "ipython",
    "version": 3
   },
   "file_extension": ".py",
   "mimetype": "text/x-python",
   "name": "python",
   "nbconvert_exporter": "python",
   "pygments_lexer": "ipython3",
   "version": "3.7.5"
  }
 },
 "nbformat": 4,
 "nbformat_minor": 2
}
