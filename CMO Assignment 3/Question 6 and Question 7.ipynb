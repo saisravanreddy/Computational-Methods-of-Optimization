{
 "cells": [
  {
   "cell_type": "code",
   "execution_count": 8,
   "metadata": {},
   "outputs": [],
   "source": [
    "import numpy as np"
   ]
  },
  {
   "cell_type": "markdown",
   "metadata": {},
   "source": [
    "# Question 6 "
   ]
  },
  {
   "cell_type": "code",
   "execution_count": 9,
   "metadata": {},
   "outputs": [
    {
     "name": "stdout",
     "output_type": "stream",
     "text": [
      "X* = [ 3. -1. -1.]\n"
     ]
    }
   ],
   "source": [
    "Q = np.array([[2,1,1],[1,2,1],[1,1,2]])\n",
    "b = np.array([4,0,0])\n",
    "x_opt = np.matmul(np.linalg.inv(Q),b)\n",
    "print(\"X* = {}\".format(x_opt))"
   ]
  },
  {
   "cell_type": "code",
   "execution_count": 10,
   "metadata": {},
   "outputs": [],
   "source": [
    "X_initial = np.array([0,0,0])"
   ]
  },
  {
   "cell_type": "code",
   "execution_count": 11,
   "metadata": {},
   "outputs": [],
   "source": [
    "def func(X):\n",
    "    return ((1./2.)*np.matmul(np.transpose(X),np.matmul(Q,X)))-(np.dot(b,X))\n",
    "\n",
    "def func_grad(X):\n",
    "    return np.matmul(Q,X)-b"
   ]
  },
  {
   "cell_type": "code",
   "execution_count": 12,
   "metadata": {},
   "outputs": [],
   "source": [
    "def conjugate_gradient_method(X, func, func_grad):\n",
    "    no_of_iterations = 0\n",
    "    X_list = []\n",
    "    X_list.append(X)\n",
    "    \n",
    "    d_list = []\n",
    "    d_list.append(-1. * func_grad(X_list[0]))\n",
    "    alpha = -1. * np.matmul(np.transpose(func_grad(X_list[0])),d_list[0]) / np.matmul(np.transpose(d_list[0]),np.matmul(Q,d_list[0]))\n",
    "    alpha_list = []\n",
    "    alpha_list.append(alpha)\n",
    "    beta_list = []\n",
    "    X_list.append(X_list[0] + alpha_list[0]*d_list[0])\n",
    "    beta = np.matmul(np.transpose(func_grad(X_list[1])),np.matmul(Q,d_list[0])) /  np.matmul(np.transpose(d_list[0]),np.matmul(Q,d_list[0]))\n",
    "    beta_list.append(beta)\n",
    "    k = 1\n",
    "    while k<10:\n",
    "        d_list.append(-1. * func_grad(X_list[k]) + beta_list[k-1]*d_list[k-1])\n",
    "        alpha = -1. * np.matmul(np.transpose(func_grad(X_list[k])),d_list[k]) / np.matmul(np.transpose(d_list[k]),np.matmul(Q,d_list[k]))\n",
    "        alpha_list.append(alpha)\n",
    "        X_list.append(X_list[k] + alpha_list[k]*d_list[k])\n",
    "        beta = np.matmul(np.transpose(func_grad(X_list[k+1])),np.matmul(Q,d_list[k])) /  np.matmul(np.transpose(d_list[k]),np.matmul(Q,d_list[k]))\n",
    "        beta_list.append(beta)\n",
    "        k += 1\n",
    "    print(X_list)\n",
    "    print(\"\\n\")\n",
    "    print(d_list)\n",
    "    print(\"\\n\")\n",
    "    print(alpha_list)\n",
    "    print(\"\\n\")\n",
    "    print(beta_list)"
   ]
  },
  {
   "cell_type": "code",
   "execution_count": 13,
   "metadata": {},
   "outputs": [
    {
     "name": "stdout",
     "output_type": "stream",
     "text": [
      "[array([0, 0, 0]), array([2., 0., 0.]), array([ 3., -1., -1.]), array([nan, nan, nan]), array([nan, nan, nan]), array([nan, nan, nan]), array([nan, nan, nan]), array([nan, nan, nan]), array([nan, nan, nan]), array([nan, nan, nan]), array([nan, nan, nan])]\n",
      "\n",
      "\n",
      "[array([ 4., -0., -0.]), array([ 2., -2., -2.]), array([ 0., -0., -0.]), array([nan, nan, nan]), array([nan, nan, nan]), array([nan, nan, nan]), array([nan, nan, nan]), array([nan, nan, nan]), array([nan, nan, nan]), array([nan, nan, nan])]\n",
      "\n",
      "\n",
      "[0.5, 0.5, nan, nan, nan, nan, nan, nan, nan, nan]\n",
      "\n",
      "\n",
      "[0.5, 0.0, nan, nan, nan, nan, nan, nan, nan, nan]\n"
     ]
    },
    {
     "name": "stderr",
     "output_type": "stream",
     "text": [
      "/home/sravan/.local/lib/python3.6/site-packages/ipykernel_launcher.py:18: RuntimeWarning: invalid value encountered in double_scalars\n"
     ]
    }
   ],
   "source": [
    "conjugate_gradient_method(X_initial, func, func_grad)"
   ]
  },
  {
   "cell_type": "markdown",
   "metadata": {},
   "source": [
    "# Question 6 \n",
    "Answer: a) [3 -1 -1]\n",
    "\n",
    "b) 2 iterations"
   ]
  },
  {
   "cell_type": "markdown",
   "metadata": {},
   "source": [
    "# Question 7"
   ]
  },
  {
   "cell_type": "code",
   "execution_count": 14,
   "metadata": {},
   "outputs": [
    {
     "name": "stdout",
     "output_type": "stream",
     "text": [
      "X* = [-65.  24. -11.   6.]\n"
     ]
    }
   ],
   "source": [
    "Q = np.array([[1.,2.,-1.,1.],[2.,5.,0.,2.],[-1.,0.,6.,0.],[1.,2.,0.,3.]])\n",
    "b = np.array([0.,2.,-1.,1.])\n",
    "x_opt = np.matmul(np.linalg.inv(Q),b)\n",
    "print(\"X* = {}\".format(x_opt))"
   ]
  },
  {
   "cell_type": "code",
   "execution_count": 4,
   "metadata": {},
   "outputs": [
    {
     "data": {
      "text/plain": [
       "array([[ 1.,  2., -1.,  1.],\n",
       "       [ 2.,  5.,  0.,  2.],\n",
       "       [-1.,  0.,  6.,  0.],\n",
       "       [ 1.,  2.,  0.,  3.]])"
      ]
     },
     "execution_count": 4,
     "metadata": {},
     "output_type": "execute_result"
    }
   ],
   "source": [
    "Q"
   ]
  },
  {
   "cell_type": "code",
   "execution_count": 15,
   "metadata": {},
   "outputs": [
    {
     "name": "stdout",
     "output_type": "stream",
     "text": [
      "[array([0., 0., 0., 0.]), array([ 0.        ,  0.32432432, -0.16216216,  0.16216216]), array([-34.89473684,  13.84210526,  -6.92105263,   1.10526316]), array([-53.05970149,  20.89552239,  -8.6119403 ,   3.13432836]), array([-65.,  24., -11.,   6.]), array([-65.,  24., -11.,   6.]), array([-65.,  24., -11.,   6.]), array([-65.,  24., -11.,   6.]), array([-65.,  24., -11.,   6.]), array([-65.,  24., -11.,   6.]), array([-65.,  24., -11.,   6.])]\n",
      "\n",
      "\n",
      "[array([-0.,  2., -1.,  1.]), array([-0.97297297,  0.37691746, -0.18845873,  0.02629657]), array([-57.54570637,  22.34487535,  -5.3566482 ,   6.42797784]), array([-21.9202495 ,   5.69926487,  -4.3840499 ,   5.26085988]), array([ 7.07007697e-14, -1.83822001e-14, -1.42815555e-14, -1.69681847e-14]), array([-3.15149001e-14,  8.19387402e-15, -7.84484490e-15,  2.17744307e-14]), array([-4.46589210e-14, -1.68103900e-14, -1.11167196e-14,  1.66451080e-14]), array([ 4.46589210e-14, -1.16113195e-14,  1.11167196e-14, -3.08559627e-14]), array([ 6.30298001e-14, -1.63877480e-14, -1.27320196e-14, -1.51271520e-14]), array([-6.30298001e-14,  1.63877480e-14, -1.56896898e-14,  4.35488615e-14])]\n",
      "\n",
      "\n",
      "[0.16216216216216217, 35.8640350877193, 0.315661511447289, 0.544715447154469, 0.09132007233272929, 0.45048115905957764, 0.05502585982814297, 0.4095840805959663, -0.01926977687627065, 0.45048115905957786]\n",
      "\n",
      "\n",
      "[0.16143170197224258, 58.305747922437575, 0.37261924321796636, -3.22536336693272e-15, -0.4457504520795656, 1.4170732229004064, -1.0000000000000002, 1.4113596726543771, -0.9999999999999998, 1.090254511656121]\n"
     ]
    }
   ],
   "source": [
    "X_initial = np.array([0.,0.,0.,0.])\n",
    "\n",
    "conjugate_gradient_method(X_initial, func, func_grad)"
   ]
  },
  {
   "cell_type": "markdown",
   "metadata": {},
   "source": [
    "# Question 7 \n",
    "Answer: a) [-65 24 -11 6]\n",
    "\n",
    "b) 4 iterations"
   ]
  }
 ],
 "metadata": {
  "kernelspec": {
   "display_name": "Python 3",
   "language": "python",
   "name": "python3"
  },
  "language_info": {
   "codemirror_mode": {
    "name": "ipython",
    "version": 3
   },
   "file_extension": ".py",
   "mimetype": "text/x-python",
   "name": "python",
   "nbconvert_exporter": "python",
   "pygments_lexer": "ipython3",
   "version": "3.6.9"
  }
 },
 "nbformat": 4,
 "nbformat_minor": 2
}
