{
 "cells": [
  {
   "cell_type": "code",
   "execution_count": 1,
   "metadata": {},
   "outputs": [],
   "source": [
    "import numpy as np\n",
    "import dill\n",
    "import pickle"
   ]
  },
  {
   "cell_type": "code",
   "execution_count": 3,
   "metadata": {},
   "outputs": [],
   "source": [
    "alpha_min_slope = 0.1\n",
    "beta_ratio_decrease_t = 0.7\n",
    "epsilon = 10**(-3)\n",
    "X_initial = [0, 0]"
   ]
  },
  {
   "cell_type": "code",
   "execution_count": 5,
   "metadata": {},
   "outputs": [],
   "source": [
    "func = dill.loads(pickle.load(open(\"f.pkl\",\"rb\")))\n",
    "func_grad = dill.loads(pickle.load(open(\"grad_f.pkl\",\"rb\")))\n",
    "hess_inv = dill.loads(pickle.load(open(\"hessian_inv.pkl\",\"rb\")))"
   ]
  },
  {
   "cell_type": "code",
   "execution_count": 14,
   "metadata": {},
   "outputs": [],
   "source": [
    "def backtracking_line_search_based_newton_method(alpha_min_slope, beta_ratio_decrease_t, X, epsilon, func, func_grad, hess_inv):\n",
    "    iterations = 0\n",
    "\n",
    "    while(1):\n",
    "        print(\"X = {} \\n\".format(X))\n",
    "        print(\"Iteration number: {}\".format(iterations+1))\n",
    "        u = -1.*np.matmul(hess_inv(X),func_grad(X))\n",
    "        t = 1\n",
    "        while (func(X+t*u) > (func(X) + alpha_min_slope*t*np.matmul(np.matrix.transpose(func_grad(X)),u))):\n",
    "            t = beta_ratio_decrease_t * t\n",
    "            \n",
    "        X = X + t*u\n",
    "        iterations += 1\n",
    "        if np.linalg.norm(t*u,2) < epsilon:\n",
    "            break\n",
    "    \n",
    "    return X,iterations"
   ]
  },
  {
   "cell_type": "code",
   "execution_count": 15,
   "metadata": {},
   "outputs": [
    {
     "name": "stdout",
     "output_type": "stream",
     "text": [
      "X = [0, 0] \n",
      "\n",
      "Iteration number: 1\n",
      "X = [0.235298 0.      ] \n",
      "\n",
      "Iteration number: 2\n",
      "X = [0.38146694 0.12415167] \n",
      "\n",
      "Iteration number: 3\n",
      "X = [0.59632711 0.30303152] \n",
      "\n",
      "Iteration number: 4\n",
      "X = [0.71822768 0.50099126] \n",
      "\n",
      "Iteration number: 5\n",
      "X = [0.94412193 0.83588009] \n",
      "\n",
      "Iteration number: 6\n",
      "X = [1.03140458 1.05617715] \n",
      "\n",
      "Iteration number: 7\n",
      "X = [1.21947002 1.4478532 ] \n",
      "\n",
      "Iteration number: 8\n",
      "X = [1.30765768 1.70219155] \n",
      "\n",
      "Iteration number: 9\n",
      "X = [1.49730987 2.20363577] \n",
      "\n",
      "Iteration number: 10\n",
      "X = [1.55535579 2.41576231] \n",
      "\n",
      "Iteration number: 11\n",
      "X = [1.68551895 2.82231332] \n",
      "\n",
      "Iteration number: 12\n",
      "X = [1.75197507 3.06500022] \n",
      "\n",
      "Iteration number: 13\n",
      "X = [1.88367323 3.53088043] \n",
      "\n",
      "Iteration number: 14\n",
      "X = [1.90970363 3.64629038] \n",
      "\n",
      "Iteration number: 15\n",
      "X = [1.98922373 3.95068759] \n",
      "\n",
      "Iteration number: 16\n",
      "X = [1.99398212 3.97594204] \n",
      "\n",
      "Iteration number: 17\n",
      "X = [1.99997287 3.9998556 ] \n",
      "\n",
      "Iteration number: 18\n",
      "X_hat: [1.99999981 3.99999923] \t iterations:18 \n"
     ]
    }
   ],
   "source": [
    "X_final, iterations = backtracking_line_search_based_newton_method(alpha_min_slope, \n",
    "                                                                      beta_ratio_decrease_t, \n",
    "                                                                      X_initial, \n",
    "                                                                      epsilon,\n",
    "                                                                      func,\n",
    "                                                                      func_grad,\n",
    "                                                                      hess_inv)\n",
    "print(\"X_hat: {} \\t iterations:{} \".format(X_final, iterations))"
   ]
  },
  {
   "cell_type": "markdown",
   "metadata": {},
   "source": [
    "# Question 5) \n",
    "a) x^1  = 2 x^2 = 4\n",
    "b) 18 iterations"
   ]
  }
 ],
 "metadata": {
  "kernelspec": {
   "display_name": "py_37_env",
   "language": "python",
   "name": "py_37_env"
  },
  "language_info": {
   "codemirror_mode": {
    "name": "ipython",
    "version": 3
   },
   "file_extension": ".py",
   "mimetype": "text/x-python",
   "name": "python",
   "nbconvert_exporter": "python",
   "pygments_lexer": "ipython3",
   "version": "3.7.5"
  }
 },
 "nbformat": 4,
 "nbformat_minor": 2
}
