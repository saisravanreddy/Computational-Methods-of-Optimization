{
 "cells": [
  {
   "cell_type": "code",
   "execution_count": 1,
   "metadata": {},
   "outputs": [
    {
     "name": "stdout",
     "output_type": "stream",
     "text": [
      "[[ 0.074984  -0.37907    1.       ]\n",
      " [-0.33575   -0.84075    1.       ]\n",
      " [ 0.11657   -0.166      1.       ]\n",
      " [-0.44398   -0.38495   -1.       ]\n",
      " [ 0.82067    0.39792    1.       ]\n",
      " [ 0.0032261  0.026432  -1.       ]\n",
      " [-0.10646    0.73267   -1.       ]\n",
      " [-0.2222     0.26439   -1.       ]\n",
      " [ 0.28111   -0.33193    1.       ]\n",
      " [-0.46789    0.37675   -1.       ]]\n"
     ]
    }
   ],
   "source": [
    "# Import required libraries\n",
    "import sys\n",
    "import numpy as np\n",
    "np.set_printoptions(threshold=sys.maxsize)\n",
    "from numpy import genfromtxt\n",
    "X_old = genfromtxt('a4.csv', delimiter=',')\n",
    "X = X_old.T \n",
    "print(X)\n"
   ]
  },
  {
   "cell_type": "markdown",
   "metadata": {},
   "source": [
    "# 3)a\n"
   ]
  },
  {
   "cell_type": "code",
   "execution_count": 16,
   "metadata": {},
   "outputs": [
    {
     "name": "stdout",
     "output_type": "stream",
     "text": [
      "30.3642705762\n",
      "1.0000114500000024\n",
      "24.362086161\n",
      "37.898124849\n",
      "86.976805443\n",
      "1.00000053627\n",
      "53.604666831\n",
      "43.630116801\n",
      "55.05950097\n",
      "82.16054602199999\n",
      "[2, 6]\n"
     ]
    }
   ],
   "source": [
    "#constraints that are equal to zeros\n",
    "active_set =[]\n",
    "w = np.array([132.1473, -53.9619])\n",
    "b = 0\n",
    "for i in range(len(X)):\n",
    "    #np.matmul(w.T,X[i,0:2])+b\n",
    "    print (X[i,2]*np.matmul(w.T,X[i,0:2])+b)\n",
    "    if abs((X[i,2]*np.matmul(w.T,X[i,0:2]))+b-1) <0.01:\n",
    "        active_set.append(i+1);\n",
    "\n",
    "print(active_set)\n",
    "\n"
   ]
  },
  {
   "cell_type": "markdown",
   "metadata": {},
   "source": [
    "# 3)a : Active Set is [2,6]"
   ]
  },
  {
   "attachments": {},
   "cell_type": "markdown",
   "metadata": {},
   "source": [
    "# 3)b :All directions satisfying constraints 2 and 5 are feasible\n",
    "implies slope>[0.399346] and slope <=\n",
    "feasible directions = alpha[1 0.399346] + (1-alpha)[-1 0.12205281]\n",
    "\n",
    "\n",
    "# 3)c : since p!=0 , compute step size i.e A"
   ]
  },
  {
   "cell_type": "code",
   "execution_count": null,
   "metadata": {},
   "outputs": [],
   "source": []
  }
 ],
 "metadata": {
  "kernelspec": {
   "display_name": "Python 3",
   "language": "python",
   "name": "python3"
  },
  "language_info": {
   "codemirror_mode": {
    "name": "ipython",
    "version": 3
   },
   "file_extension": ".py",
   "mimetype": "text/x-python",
   "name": "python",
   "nbconvert_exporter": "python",
   "pygments_lexer": "ipython3",
   "version": "3.6.9"
  }
 },
 "nbformat": 4,
 "nbformat_minor": 2
}
